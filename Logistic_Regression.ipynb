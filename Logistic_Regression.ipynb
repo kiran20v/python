{
  "nbformat": 4,
  "nbformat_minor": 0,
  "metadata": {
    "colab": {
      "name": "Logistic_Regression.ipynb",
      "provenance": [],
      "collapsed_sections": [],
      "include_colab_link": true
    },
    "kernelspec": {
      "name": "python3",
      "display_name": "Python 3"
    },
    "accelerator": "GPU"
  },
  "cells": [
    {
      "cell_type": "markdown",
      "metadata": {
        "id": "view-in-github",
        "colab_type": "text"
      },
      "source": [
        "<a href=\"https://colab.research.google.com/github/kiran20v/python/blob/master/Logistic_Regression.ipynb\" target=\"_parent\"><img src=\"https://colab.research.google.com/assets/colab-badge.svg\" alt=\"Open In Colab\"/></a>"
      ]
    },
    {
      "cell_type": "code",
      "metadata": {
        "id": "WTBsUnijpBxx",
        "colab_type": "code",
        "colab": {}
      },
      "source": [
        "import numpy as np\n",
        "import matplotlib.pyplot as plt"
      ],
      "execution_count": 0,
      "outputs": []
    },
    {
      "cell_type": "code",
      "metadata": {
        "id": "GQ-9pBevmgkB",
        "colab_type": "code",
        "colab": {
          "base_uri": "https://localhost:8080/",
          "height": 265
        },
        "outputId": "39df7297-d090-4196-8b5e-bff439a008bb"
      },
      "source": [
        "n_pts = 200\n",
        "random_x1_values = np.random.normal(10, 2, n_pts)\n",
        "random_x2_values = np.random.normal(12, 2, n_pts)\n",
        "top_region = np.array([random_x1_values, random_x2_values]).T\n",
        "bottom_region = np.array([np.random.normal(5,2, n_pts), np.random.normal(6,2, n_pts)]).T\n",
        "# top_region, bottom_region\n",
        "_, ax = plt.subplots(figsize=(4,4))\n",
        "ax.scatter(top_region[:,0], top_region[:,1], color='r')\n",
        "ax.scatter(bottom_region[:,0], bottom_region[:,1], color='b')\n",
        "plt.show()"
      ],
      "execution_count": 12,
      "outputs": [
        {
          "output_type": "display_data",
          "data": {
            "image/png": "[encoded data removed]",
            "text/plain": [
              "<Figure size 288x288 with 1 Axes>"
            ]
          },
          "metadata": {
            "tags": []
          }
        }
      ]
    }
  ]
}