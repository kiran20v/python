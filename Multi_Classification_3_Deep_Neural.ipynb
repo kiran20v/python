{
  "nbformat": 4,
  "nbformat_minor": 0,
  "metadata": {
    "colab": {
      "name": "Multi_Classification_3_Deep_Neural.ipynb",
      "provenance": [],
      "collapsed_sections": [],
      "include_colab_link": true
    },
    "kernelspec": {
      "name": "python3",
      "display_name": "Python 3"
    }
  },
  "cells": [
    {
      "cell_type": "markdown",
      "metadata": {
        "id": "view-in-github",
        "colab_type": "text"
      },
      "source": [
        "<a href=\"https://colab.research.google.com/github/kiran20v/python/blob/master/Multi_Classification_3_Deep_Neural.ipynb\" target=\"_parent\"><img src=\"https://colab.research.google.com/assets/colab-badge.svg\" alt=\"Open In Colab\"/></a>"
      ]
    },
    {
      "cell_type": "code",
      "metadata": {
        "id": "LOj0UD6Xs9Sm",
        "colab_type": "code",
        "colab": {}
      },
      "source": [
        "import numpy as np\n",
        "import matplotlib.pyplot as plt\n",
        "from sklearn import datasets\n",
        "from keras.models import Sequential\n",
        "from keras.layers import Dense\n",
        "from keras.optimizers import Adam\n",
        "from keras.utils.np_utils import to_categorical"
      ],
      "execution_count": 0,
      "outputs": []
    },
    {
      "cell_type": "code",
      "metadata": {
        "id": "6RbAj7W_swNW",
        "colab_type": "code",
        "colab": {}
      },
      "source": [
        "n_pts = 500\n",
        "center = [[-1,1],[-1, -1],[1, -1]]\n",
        "X, y = datasets.make_blobs(n_samples=n_pts, random_state=123, centers=center, cluster_std=0.4)\n",
        "print(X)\n",
        "print(y)"
      ],
      "execution_count": 0,
      "outputs": []
    },
    {
      "cell_type": "code",
      "metadata": {
        "id": "94_tOJ9uxLKZ",
        "colab_type": "code",
        "colab": {
          "base_uri": "https://localhost:8080/",
          "height": 282
        },
        "outputId": "1d7b5d59-55f7-4537-b449-ee1775053ba8"
      },
      "source": [
        "plt.scatter(X[y==0, 0], X[y==0, 1])\n",
        "plt.scatter(X[y==1, 0], X[y==1, 1])\n",
        "plt.scatter(X[y==2, 0], X[y==2, 1])"
      ],
      "execution_count": 12,
      "outputs": [
        {
          "output_type": "execute_result",
          "data": {
            "text/plain": [
              "<matplotlib.collections.PathCollection at 0x7fa8da54f4a8>"
            ]
          },
          "metadata": {
            "tags": []
          },
          "execution_count": 12
        },
        {
          "output_type": "display_data",
          "data": {
            "image/png": "[encoded data removed]",
            "text/plain": [
              "<Figure size 432x288 with 1 Axes>"
            ]
          },
          "metadata": {
            "tags": []
          }
        }
      ]
    },
    {
      "cell_type": "code",
      "metadata": {
        "id": "UVUSlrJPxLA0",
        "colab_type": "code",
        "colab": {
          "base_uri": "https://localhost:8080/",
          "height": 382
        },
        "outputId": "f75b1cc8-2aee-4df9-9bb2-71ba1300079e"
      },
      "source": [
        "print(y)\n",
        "y_cat = to_categorical(y, 3)\n",
        "print(y_cat)"
      ],
      "execution_count": 16,
      "outputs": [
        {
          "output_type": "stream",
          "text": [
            "[2 2 2 0 1 0 0 2 2 2 1 1 0 0 1 2 2 2 2 0 2 0 1 2 1 2 0 0 2 1 1 0 0 2 1 0 2\n",
            " 0 2 0 0 2 1 0 2 0 1 2 0 2 0 1 1 0 1 2 2 0 1 2 0 2 0 2 1 0 1 1 1 1 2 1 1 1\n",
            " 1 1 2 1 1 2 0 1 2 2 1 0 2 1 1 2 0 0 2 1 2 2 0 1 2 0 2 1 1 2 2 0 0 1 2 1 1\n",
            " 2 0 0 1 0 2 2 2 2 1 2 1 2 0 2 2 0 1 0 0 0 0 2 0 1 0 2 2 0 2 2 2 2 1 2 0 0\n",
            " 0 2 1 0 2 0 0 1 1 0 2 0 0 1 1 2 2 0 2 1 2 2 2 1 1 1 2 0 0 1 0 1 2 2 1 1 2\n",
            " 1 1 0 0 2 2 1 0 0 0 0 2 2 0 2 1 1 2 0 0 2 2 0 1 0 2 0 2 2 0 0 2 1 2 0 2 0\n",
            " 1 1 2 0 0 0 2 1 2 2 2 0 0 1 0 2 0 2 0 2 1 1 1 2 2 1 1 1 0 1 2 1 0 1 2 2 0\n",
            " 0 0 1 1 1 2 1 1 2 1 1 2 0 0 0 2 0 2 0 0 0 2 1 1 0 2 1 0 0 1 1 1 1 2 1 1 0\n",
            " 0 0 2 1 1 1 0 0 0 0 0 0 0 1 2 1 2 1 0 2 0 0 1 2 0 1 2 2 2 2 2 0 1 2 0 2 1\n",
            " 0 0 1 2 0 2 0 1 1 0 2 1 0 1 1 1 0 2 0 2 0 1 1 0 1 1 1 2 2 0 2 0 2 2 1 1 0\n",
            " 2 2 2 1 1 1 2 2 0 1 2 1 2 0 1 2 2 2 0 1 1 1 2 0 2 0 0 2 1 1 1 2 0 1 0 0 1\n",
            " 1 2 0 0 1 2 1 1 0 2 0 1 0 2 0 0 0 1 1 1 2 0 1 1 0 2 1 2 1 1 1 1 0 0 0 0 0\n",
            " 2 2 1 1 0 1 0 2 2 2 2 0 0 1 1 0 0 1 1 1 2 2 1 1 1 1 0 0 2 0 1 0 1 0 1 1 2\n",
            " 2 0 2 2 1 0 1 2 0 2 0 2 1 0 2 0 1 1 0]\n",
            "[[0. 0. 1.]\n",
            " [0. 0. 1.]\n",
            " [0. 0. 1.]\n",
            " ...\n",
            " [0. 1. 0.]\n",
            " [0. 1. 0.]\n",
            " [1. 0. 0.]]\n"
          ],
          "name": "stdout"
        }
      ]
    },
    {
      "cell_type": "code",
      "metadata": {
        "id": "BIuOvReXy34e",
        "colab_type": "code",
        "colab": {
          "base_uri": "https://localhost:8080/",
          "height": 106
        },
        "outputId": "255f30e8-d71a-49c9-e521-c53dd3348a99"
      },
      "source": [
        "model = Sequential()\n",
        "model.add(Dense(units=3, input_shape=(2,), activation='softmax'))\n",
        "model.compile(Adam(0.1), loss='categorical_crossentropy', metrics=['accuracy'])"
      ],
      "execution_count": 18,
      "outputs": [
        {
          "output_type": "stream",
          "text": [
            "WARNING:tensorflow:From /usr/local/lib/python3.6/dist-packages/keras/optimizers.py:793: The name tf.train.Optimizer is deprecated. Please use tf.compat.v1.train.Optimizer instead.\n",
            "\n",
            "WARNING:tensorflow:From /usr/local/lib/python3.6/dist-packages/keras/backend/tensorflow_backend.py:3576: The name tf.log is deprecated. Please use tf.math.log instead.\n",
            "\n"
          ],
          "name": "stdout"
        }
      ]
    },
    {
      "cell_type": "code",
      "metadata": {
        "id": "KU2wacohzrcx",
        "colab_type": "code",
        "colab": {}
      },
      "source": [
        "model.fit(x=X, y=y_cat, verbose=1, batch_size=50, epochs=100)"
      ],
      "execution_count": 0,
      "outputs": []
    },
    {
      "cell_type": "code",
      "metadata": {
        "id": "hJpPf7dVeG_B",
        "colab_type": "code",
        "colab": {}
      },
      "source": [
        "def plot_descision_boundary(X, y, model):\n",
        "    x_span = np.linspace(min(X[:, 0]) - 0.25, max(X[:, 0]) + 0.25, 50)\n",
        "    y_span = np.linspace(min(X[:, 1]) - 0.25, max(X[:, 1]) + 0.25, 50)\n",
        "    #print(y_span)\n",
        "    xx, yy = np.meshgrid(x_span, y_span)\n",
        "    #print(xx)\n",
        "    #print(yy)\n",
        "    xx_, yy_ = xx.ravel(), yy.ravel()\n",
        "    grid = np.c_[xx_, yy_]\n",
        "    pred_func = model.predict_classes(grid)\n",
        "    z = pred_func.reshape(xx.shape)\n",
        "    plt.contourf(xx, yy, z)"
      ],
      "execution_count": 0,
      "outputs": []
    },
    {
      "cell_type": "code",
      "metadata": {
        "id": "vrGpnr-IeSQJ",
        "colab_type": "code",
        "outputId": "b71049ca-093f-4cb0-d73c-d67f6c7dae46",
        "colab": {
          "base_uri": "https://localhost:8080/",
          "height": 282
        }
      },
      "source": [
        "plot_descision_boundary(X, y, model)\n",
        "plt.scatter(X[y==0, 0], X[y==0, 1])\n",
        "plt.scatter(X[y==1, 0], X[y==1, 1])\n",
        "plt.scatter(X[y==2, 0], X[y==2, 1])"
      ],
      "execution_count": 22,
      "outputs": [
        {
          "output_type": "execute_result",
          "data": {
            "text/plain": [
              "<matplotlib.collections.PathCollection at 0x7fa8d34c4898>"
            ]
          },
          "metadata": {
            "tags": []
          },
          "execution_count": 22
        },
        {
          "output_type": "display_data",
          "data": {
            "image/png": "[encoded data removed]",
            "text/plain": [
              "<Figure size 432x288 with 1 Axes>"
            ]
          },
          "metadata": {
            "tags": []
          }
        }
      ]
    },
    {
      "cell_type": "code",
      "metadata": {
        "id": "5nnx-Tt91wsX",
        "colab_type": "code",
        "colab": {}
      },
      "source": [
        ""
      ],
      "execution_count": 0,
      "outputs": []
    },
    {
      "cell_type": "code",
      "metadata": {
        "colab_type": "code",
        "outputId": "9102ecfb-9b73-4bb3-f021-9c3aa49184ce",
        "id": "uSE-jf1311c1",
        "colab": {
          "base_uri": "https://localhost:8080/",
          "height": 317
        }
      },
      "source": [
        "plot_descision_boundary(X, y, model)\n",
        "plt.scatter(X[y==0, 0], X[y==0, 1])\n",
        "plt.scatter(X[y==1, 0], X[y==1, 1])\n",
        "plt.scatter(X[y==2, 0], X[y==2, 1])\n",
        "\n",
        "x=0.5\n",
        "y=0.5\n",
        "point = np.array([[x, y]])\n",
        "prediction = model.predict_classes(point)\n",
        "plt.plot([x], [y], marker='o', markersize=10, color='r')\n",
        "print(\"Prediction1: \", prediction)\n",
        "\n",
        "x=-1\n",
        "y=-1\n",
        "point = np.array([[x, y]])\n",
        "prediction = model.predict_classes(point)\n",
        "plt.plot([x], [y], marker='o', markersize=10, color='r')\n",
        "print(\"Prediction2: \", prediction)\n",
        "\n",
        "x=1\n",
        "y=-1\n",
        "point = np.array([[x, y]])\n",
        "prediction = model.predict_classes(point)\n",
        "plt.plot([x], [y], marker='o', markersize=10, color='r')\n",
        "print(\"Prediction3: \", prediction)"
      ],
      "execution_count": 26,
      "outputs": [
        {
          "output_type": "stream",
          "text": [
            "Prediction1:  [0]\n",
            "Prediction2:  [1]\n",
            "Prediction3:  [2]\n"
          ],
          "name": "stdout"
        },
        {
          "output_type": "display_data",
          "data": {
            "image/png": "[encoded data removed]",
            "text/plain": [
              "<Figure size 432x288 with 1 Axes>"
            ]
          },
          "metadata": {
            "tags": []
          }
        }
      ]
    }
  ]
}