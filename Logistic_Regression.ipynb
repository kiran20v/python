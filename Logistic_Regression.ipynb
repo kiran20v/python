{
  "nbformat": 4,
  "nbformat_minor": 0,
  "metadata": {
    "colab": {
      "name": "Logistic_Regression.ipynb",
      "provenance": [],
      "collapsed_sections": [],
      "include_colab_link": true
    },
    "kernelspec": {
      "name": "python3",
      "display_name": "Python 3"
    },
    "accelerator": "GPU"
  },
  "cells": [
    {
      "cell_type": "markdown",
      "metadata": {
        "id": "view-in-github",
        "colab_type": "text"
      },
      "source": [
        "<a href=\"https://colab.research.google.com/github/kiran20v/python/blob/master/Logistic_Regression.ipynb\" target=\"_parent\"><img src=\"https://colab.research.google.com/assets/colab-badge.svg\" alt=\"Open In Colab\"/></a>"
      ]
    },
    {
      "cell_type": "markdown",
      "metadata": {
        "id": "num0QeorsuRq",
        "colab_type": "text"
      },
      "source": [
        "## Linear Regression - Perceptrons, sigmoids\n",
        "\n",
        "1.   Perceptrons\n",
        "2.   Step function vs Sigmod \n",
        "3.   Step function gives 1 or 0\n",
        "3.   Sigmoid 1/1+e pw 1/10 = 99% = 1/1+e pw -x\n",
        "4.   Error variations\n",
        "5.   Bias(b) would be 1 ( 0 = w1(x1) + w2(x2) + b )\n",
        "6.   Cross entropy = sum of logarthims/probablities\n",
        "                  - (SUM yln(p) + (1-y)(ln(1-p))/n_pts\n",
        "\n",
        "\n"
      ]
    },
    {
      "cell_type": "code",
      "metadata": {
        "id": "WTBsUnijpBxx",
        "colab_type": "code",
        "colab": {}
      },
      "source": [
        "import numpy as np\n",
        "import matplotlib.pyplot as plt"
      ],
      "execution_count": 0,
      "outputs": []
    },
    {
      "cell_type": "code",
      "metadata": {
        "id": "eyq1JH9hs_PD",
        "colab_type": "code",
        "colab": {}
      },
      "source": [
        ""
      ],
      "execution_count": 0,
      "outputs": []
    },
    {
      "cell_type": "code",
      "metadata": {
        "id": "GQ-9pBevmgkB",
        "colab_type": "code",
        "colab": {}
      },
      "source": [
        "n_pts = 100\n",
        "np.random.seed(0)\n",
        "bias = np.ones(n_pts)\n",
        "top_region = np.array([np.random.normal(10, 2, n_pts), np.random.normal(12, 2, n_pts), bias]).T\n",
        "bottom_region = np.array([np.random.normal(5,2, n_pts), np.random.normal(6,2, n_pts), bias]).T\n",
        "top_region"
      ],
      "execution_count": 0,
      "outputs": []
    },
    {
      "cell_type": "code",
      "metadata": {
        "id": "P7WwtVunxdLJ",
        "colab_type": "code",
        "colab": {}
      },
      "source": [
        "def draw(x1, x2):\n",
        "    ln = plt.plot(x1, x2)"
      ],
      "execution_count": 0,
      "outputs": []
    },
    {
      "cell_type": "code",
      "metadata": {
        "id": "_I7KwVZazkn2",
        "colab_type": "code",
        "colab": {}
      },
      "source": [
        "def sigmoid(score):\n",
        "    return 1/(1 + np.exp(-score))"
      ],
      "execution_count": 0,
      "outputs": []
    },
    {
      "cell_type": "markdown",
      "metadata": {
        "id": "FOsfBtxU7fck",
        "colab_type": "text"
      },
      "source": [
        "Cross Entropy (SUM yln(p) + (1-y)(ln(1-p))/n_pts"
      ]
    },
    {
      "cell_type": "code",
      "metadata": {
        "id": "Y5EtHard3RYz",
        "colab_type": "code",
        "colab": {}
      },
      "source": [
        "def calculate_error(line_parameters, points, y):\n",
        "    m = points.shape[0]\n",
        "    p = sigmoid(points*line_parameters)\n",
        "    print(p)\n",
        "    cross_entropy = (1/m)*(np.log(p).T * y + np.log(1-p).T(1-y))\n",
        "    return cross_entropy"
      ],
      "execution_count": 0,
      "outputs": []
    },
    {
      "cell_type": "code",
      "metadata": {
        "id": "nB6dAkkewCU9",
        "colab_type": "code",
        "colab": {}
      },
      "source": [
        "w1 = -0.2\n",
        "w2 = -0.35\n",
        "b = 3.5\n",
        "line_parameters = np.matrix([w1, w2, b]).T\n",
        "x1 = np.array([bottom_region[0:,0].min(), top_region[:,0].max()])\n",
        "x2 = -b / w2 + x1 * (-w1/w2)\n",
        "print(x1, x2)\n",
        "print(line_parameters.shape)\n",
        "\n",
        "all_points = np.vstack((top_region, bottom_region))\n",
        "linear_combination = all_points * line_parameters\n",
        "probablities = sigmoid(linear_combination)\n",
        "probablities"
      ],
      "execution_count": 0,
      "outputs": []
    },
    {
      "cell_type": "code",
      "metadata": {
        "id": "KiEf_lCGsE4Q",
        "colab_type": "code",
        "colab": {
          "base_uri": "https://localhost:8080/",
          "height": 265
        },
        "outputId": "659cea93-181f-4897-dc18-0ccabb3a32e6"
      },
      "source": [
        "_, ax = plt.subplots(figsize=(4,4))\n",
        "ax.scatter(top_region[:,0], top_region[:,1], color='r')\n",
        "ax.scatter(bottom_region[:,0], bottom_region[:,1], color='b')\n",
        "draw(x1, x2)\n",
        "plt.show()"
      ],
      "execution_count": 33,
      "outputs": [
        {
          "output_type": "display_data",
          "data": {
            "image/png": "[encoded data removed]",
            "text/plain": [
              "<Figure size 288x288 with 1 Axes>"
            ]
          },
          "metadata": {
            "tags": []
          }
        }
      ]
    },
    {
      "cell_type": "code",
      "metadata": {
        "id": "2_yBOO_jyk5N",
        "colab_type": "code",
        "colab": {}
      },
      "source": [
        ""
      ],
      "execution_count": 0,
      "outputs": []
    }
  ]
}