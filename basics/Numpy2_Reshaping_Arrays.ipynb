{
 "cells": [
  {
   "cell_type": "code",
   "execution_count": 11,
   "metadata": {},
   "outputs": [
    {
     "name": "stdout",
     "output_type": "stream",
     "text": [
      "[1 2 3 4 5 6 7 8 9]\n"
     ]
    }
   ],
   "source": [
    "import numpy as np\n",
    "x = np.arange(1, 10)\n",
    "print(x)"
   ]
  },
  {
   "cell_type": "code",
   "execution_count": 13,
   "metadata": {},
   "outputs": [
    {
     "name": "stdout",
     "output_type": "stream",
     "text": [
      "[3 4 5 6 7]\n"
     ]
    }
   ],
   "source": [
    "print(x[2:7])"
   ]
  },
  {
   "cell_type": "code",
   "execution_count": 14,
   "metadata": {},
   "outputs": [
    {
     "name": "stdout",
     "output_type": "stream",
     "text": [
      "[3 4 5 6 7 8 9]\n"
     ]
    }
   ],
   "source": [
    "print(x[2:])"
   ]
  },
  {
   "cell_type": "code",
   "execution_count": 17,
   "metadata": {},
   "outputs": [
    {
     "name": "stdout",
     "output_type": "stream",
     "text": [
      "[[0 1 2]\n",
      " [3 4 5]\n",
      " [6 7 8]]\n"
     ]
    }
   ],
   "source": [
    "reshaping = np.arange(9).reshape(3,3)\n",
    "print(reshaping)"
   ]
  },
  {
   "cell_type": "code",
   "execution_count": 20,
   "metadata": {},
   "outputs": [
    {
     "name": "stdout",
     "output_type": "stream",
     "text": [
      "[[[ 0  1  2]\n",
      "  [ 3  4  5]\n",
      "  [ 6  7  8]]\n",
      "\n",
      " [[ 9 10 11]\n",
      "  [12 13 14]\n",
      "  [15 16 17]]]\n"
     ]
    }
   ],
   "source": [
    "reshaping = np.arange(18).reshape(2,3, 3)\n",
    "print(reshaping)"
   ]
  },
  {
   "cell_type": "code",
   "execution_count": 22,
   "metadata": {},
   "outputs": [
    {
     "name": "stdout",
     "output_type": "stream",
     "text": [
      "[[[ 0  1]\n",
      "  [ 2  3]\n",
      "  [ 4  5]]\n",
      "\n",
      " [[ 6  7]\n",
      "  [ 8  9]\n",
      "  [10 11]]\n",
      "\n",
      " [[12 13]\n",
      "  [14 15]\n",
      "  [16 17]]]\n"
     ]
    }
   ],
   "source": [
    "reshaping = np.arange(18).reshape(3,3, 2)\n",
    "print(reshaping)"
   ]
  },
  {
   "cell_type": "code",
   "execution_count": 7,
   "metadata": {},
   "outputs": [
    {
     "name": "stdout",
     "output_type": "stream",
     "text": [
      "[[0 1 2]\n",
      " [3 4 5]\n",
      " [6 7 8]]\n",
      "(3, 3)\n"
     ]
    },
    {
     "data": {
      "text/plain": [
       "5"
      ]
     },
     "execution_count": 7,
     "metadata": {},
     "output_type": "execute_result"
    }
   ],
   "source": [
    "\n",
    "x = np.arange(3)\n",
    "y = np.arange(3, 6)\n",
    "z = np.arange(6, 9)\n",
    "multi_array = np.array([x, y, z])\n",
    "print(multi_array)\n",
    "print(multi_array.shape)\n",
    "multi_array[1,2]"
   ]
  },
  {
   "cell_type": "code",
   "execution_count": 8,
   "metadata": {},
   "outputs": [
    {
     "data": {
      "text/plain": [
       "dtype('int64')"
      ]
     },
     "execution_count": 8,
     "metadata": {},
     "output_type": "execute_result"
    }
   ],
   "source": [
    "multi_array.dtype"
   ]
  },
  {
   "cell_type": "code",
   "execution_count": 9,
   "metadata": {},
   "outputs": [
    {
     "name": "stdout",
     "output_type": "stream",
     "text": [
      "int16\n"
     ]
    }
   ],
   "source": [
    "multi_array_int16 = np.array([x, y, z], dtype = np.int16)\n",
    "print(multi_array_int16.dtype)"
   ]
  },
  {
   "cell_type": "code",
   "execution_count": 3,
   "metadata": {},
   "outputs": [
    {
     "name": "stdout",
     "output_type": "stream",
     "text": [
      "[ 1.          1.3877551   1.7755102   2.16326531  2.55102041  2.93877551\n",
      "  3.32653061  3.71428571  4.10204082  4.48979592  4.87755102  5.26530612\n",
      "  5.65306122  6.04081633  6.42857143  6.81632653  7.20408163  7.59183673\n",
      "  7.97959184  8.36734694  8.75510204  9.14285714  9.53061224  9.91836735\n",
      " 10.30612245 10.69387755 11.08163265 11.46938776 11.85714286 12.24489796\n",
      " 12.63265306 13.02040816 13.40816327 13.79591837 14.18367347 14.57142857\n",
      " 14.95918367 15.34693878 15.73469388 16.12244898 16.51020408 16.89795918\n",
      " 17.28571429 17.67346939 18.06122449 18.44897959 18.83673469 19.2244898\n",
      " 19.6122449  20.        ]\n"
     ]
    }
   ],
   "source": [
    "w = np.linspace(1, 20, 50)\n",
    "print(w)"
   ]
  },
  {
   "cell_type": "code",
   "execution_count": 5,
   "metadata": {},
   "outputs": [
    {
     "name": "stdout",
     "output_type": "stream",
     "text": [
      "[ 1.    1.38  1.76  2.14  2.52  2.9   3.28  3.66  4.04  4.42  4.8   5.18\n",
      "  5.56  5.94  6.32  6.7   7.08  7.46  7.84  8.22  8.6   8.98  9.36  9.74\n",
      " 10.12 10.5  10.88 11.26 11.64 12.02 12.4  12.78 13.16 13.54 13.92 14.3\n",
      " 14.68 15.06 15.44 15.82 16.2  16.58 16.96 17.34 17.72 18.1  18.48 18.86\n",
      " 19.24 19.62]\n"
     ]
    }
   ],
   "source": [
    "w = np.linspace(1, 20, 50, False)\n",
    "print(w)"
   ]
  },
  {
   "cell_type": "code",
   "execution_count": null,
   "metadata": {},
   "outputs": [],
   "source": []
  }
 ],
 "metadata": {
  "kernelspec": {
   "display_name": "Python 3",
   "language": "python",
   "name": "python3"
  },
  "language_info": {
   "codemirror_mode": {
    "name": "ipython",
    "version": 3
   },
   "file_extension": ".py",
   "mimetype": "text/x-python",
   "name": "python",
   "nbconvert_exporter": "python",
   "pygments_lexer": "ipython3",
   "version": "3.7.4"
  }
 },
 "nbformat": 4,
 "nbformat_minor": 2
}
