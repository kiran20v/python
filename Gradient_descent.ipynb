{
  "nbformat": 4,
  "nbformat_minor": 0,
  "metadata": {
    "colab": {
      "name": "Gradient_descent.ipynb",
      "provenance": [],
      "collapsed_sections": [],
      "include_colab_link": true
    },
    "kernelspec": {
      "name": "python3",
      "display_name": "Python 3"
    }
  },
  "cells": [
    {
      "cell_type": "markdown",
      "metadata": {
        "id": "view-in-github",
        "colab_type": "text"
      },
      "source": [
        "<a href=\"https://colab.research.google.com/github/kiran20v/python/blob/master/Gradient_descent.ipynb\" target=\"_parent\"><img src=\"https://colab.research.google.com/assets/colab-badge.svg\" alt=\"Open In Colab\"/></a>"
      ]
    },
    {
      "cell_type": "markdown",
      "metadata": {
        "id": "Uk43na2tCUuv",
        "colab_type": "text"
      },
      "source": [
        "# Gradient Descent\n",
        "\n",
        "\n",
        "```\n",
        "E = ((pts * (p-y))/m) * lr\n",
        " - Learning rate(lr = 0.01)\n",
        "```\n",
        "\n"
      ]
    },
    {
      "cell_type": "code",
      "metadata": {
        "id": "IN-OJdRUB-eS",
        "colab_type": "code",
        "colab": {}
      },
      "source": [
        "import numpy as np\n",
        "import matplotlib.pyplot as plt"
      ],
      "execution_count": 0,
      "outputs": []
    },
    {
      "cell_type": "code",
      "metadata": {
        "id": "p3mrV3L2DkHS",
        "colab_type": "code",
        "colab": {}
      },
      "source": [
        "def draw(x1, x2):\n",
        "    ln = plt.plot(x1, x2)"
      ],
      "execution_count": 0,
      "outputs": []
    },
    {
      "cell_type": "code",
      "metadata": {
        "id": "YbdxOhOTIZtS",
        "colab_type": "code",
        "colab": {}
      },
      "source": [
        "def sigmoid(score):\n",
        "    return 1/(1 + np.exp(-score))"
      ],
      "execution_count": 0,
      "outputs": []
    },
    {
      "cell_type": "code",
      "metadata": {
        "id": "XyaLlA82IWLd",
        "colab_type": "code",
        "colab": {}
      },
      "source": [
        "def calculate_error(line_parameters, points, y):\n",
        "    m = points.shape[0]\n",
        "    p = sigmoid(points*line_parameters)\n",
        "    cross_entropy = -(1/m)*(np.log(p).T * y + np.log(1-p).T*(1-y))\n",
        "    return cross_entropy"
      ],
      "execution_count": 0,
      "outputs": []
    },
    {
      "cell_type": "code",
      "metadata": {
        "id": "Zb8J_2IIJid0",
        "colab_type": "code",
        "colab": {}
      },
      "source": [
        "def gradient_descent(line_parameters, points, y, alpha):\n",
        "    m = points.shape[0]\n",
        "    for i in range(2000):\n",
        "        p = sigmoid(points * line_parameters)\n",
        "        gradient = ((points.T * (p - y)) * (alpha/m))\n",
        "        #print('before:line_parameters, gradient', line_parameters, gradient)\n",
        "        line_parameters = line_parameters - gradient\n",
        "        #print('after:', line_parameters)\n",
        "        w1 = line_parameters.item(0)\n",
        "        w2 = line_parameters.item(1)\n",
        "        b = line_parameters.item(2)\n",
        "        x1=np.array([points[:,0].min(), points[:,0].max()])\n",
        "        x2= -b/w2 + (x1*(-w1/w2))\n",
        "    draw(x1, x2)\n"
      ],
      "execution_count": 0,
      "outputs": []
    },
    {
      "cell_type": "code",
      "metadata": {
        "id": "H43L_iJ2IeGS",
        "colab_type": "code",
        "colab": {}
      },
      "source": [
        "n_pts=100\n",
        "np.random.seed(0)\n",
        "bias= np.ones(n_pts)\n",
        "top_region=np.array([np.random.normal(10,2,n_pts), np.random.normal(12,2,n_pts), bias]).T\n",
        "bottom_region= np.array([np.random.normal(5,2, n_pts), np.random.normal(6,2, n_pts), bias]).T\n",
        "all_points=np.vstack((top_region, bottom_region))\n",
        "# Labels (Zeros and Ones)\n",
        "y=np.array([np.zeros(n_pts), np.ones(n_pts)]).reshape(n_pts*2, 1)\n",
        "top_region"
      ],
      "execution_count": 0,
      "outputs": []
    },
    {
      "cell_type": "code",
      "metadata": {
        "id": "77FnUTECIj4m",
        "colab_type": "code",
        "colab": {}
      },
      "source": [
        "#w1=-0.2\n",
        "#w2=-0.35\n",
        "#b=3.5\n",
        "#line_parameters = np.matrix([w1,w2,b]).T\n",
        "#x1=np.array([bottom_region[:,0].min(), top_region[:,0].max()])\n",
        "#x2= -b/w2 + (x1*(-w1/w2))"
      ],
      "execution_count": 0,
      "outputs": []
    },
    {
      "cell_type": "code",
      "metadata": {
        "id": "KiEf_lCGsE4Q",
        "colab_type": "code",
        "outputId": "b93282f1-0c3b-4db6-921c-2dc0d33de20d",
        "colab": {
          "base_uri": "https://localhost:8080/",
          "height": 265
        }
      },
      "source": [
        " line_parameters = np.matrix(np.zeros(3)).T\n",
        " _, ax= plt.subplots(figsize=(4,4))\n",
        "ax.scatter(top_region[:,0], top_region[:,1], color='r')\n",
        "ax.scatter(bottom_region[:,0], bottom_region[:,1], color='b')\n",
        "gradient_descent(line_parameters, all_points, y, 0.06)\n",
        "#draw(x1,x2)\n",
        "#draw(x12,x22)\n",
        "plt.show()\n"
      ],
      "execution_count": 93,
      "outputs": [
        {
          "output_type": "display_data",
          "data": {
            "image/png": "[encoded data removed]",
            "text/plain": [
              "<Figure size 288x288 with 1 Axes>"
            ]
          },
          "metadata": {
            "tags": []
          }
        }
      ]
    }
  ]
}