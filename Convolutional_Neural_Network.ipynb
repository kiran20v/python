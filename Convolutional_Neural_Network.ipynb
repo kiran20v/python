{
  "nbformat": 4,
  "nbformat_minor": 0,
  "metadata": {
    "colab": {
      "name": "Convolutional_Neural_Network.ipynb",
      "provenance": [],
      "collapsed_sections": [],
      "include_colab_link": true
    },
    "kernelspec": {
      "name": "python3",
      "display_name": "Python 3"
    },
    "accelerator": "GPU"
  },
  "cells": [
    {
      "cell_type": "markdown",
      "metadata": {
        "id": "view-in-github",
        "colab_type": "text"
      },
      "source": [
        "<a href=\"https://colab.research.google.com/github/kiran20v/python/blob/master/Convolutional_Neural_Network.ipynb\" target=\"_parent\"><img src=\"https://colab.research.google.com/assets/colab-badge.svg\" alt=\"Open In Colab\"/></a>"
      ]
    },
    {
      "cell_type": "markdown",
      "metadata": {
        "id": "CPFmZyaKuKtA",
        "colab_type": "text"
      },
      "source": [
        "\n",
        "\n",
        "1. Raw hight resolution images uses series network layers\n",
        "2.** Convolution layer(relu) + Poolying layer + Fully connected neural n/w**\n",
        "3. Activation function - Relu : -ve values become zero and +ve values remain same  \n",
        "4. Convolution layer depicts bright pixes as +1 and dark pixels as -1.\n",
        "5. Convolution layer gives out various feature maps by applying varous kernals 9x9 or 16x16 and then applies activation Relu function.\n",
        "6. Pooling uses pooling operations like sum or average or max - avoids overfitting.\n",
        "7. Max pooling uses 2x2 and picks only brightest pixels from image which scales down it.\n",
        "\n",
        "8. Output of pooling layer is almost similar but a shrinked version of it.\n",
        "\n",
        "9. Model = conv1 + pool1 + conv2 + pool2 + FC(fully connected) + FC2 + softmax (output)\n",
        "\n",
        "10.  http://scs.ryerson.ca\n"
      ]
    },
    {
      "cell_type": "code",
      "metadata": {
        "id": "WWpL_oweyrhL",
        "colab_type": "code",
        "colab": {}
      },
      "source": [
        "import numpy as np\n",
        "import matplotlib.pyplot as plt\n",
        "import keras\n",
        "from keras.datasets import mnist\n",
        "from keras.models import Sequential\n",
        "from keras.layers import Dense\n",
        "from keras.layers import Flatten\n",
        "from keras.layers.convolutional import Conv2D\n",
        "from keras.layers.convolutional import MaxPooling2D\n",
        "from keras.optimizers import Adam\n",
        "from keras.utils.np_utils import to_categorical\n",
        "import random"
      ],
      "execution_count": 0,
      "outputs": []
    },
    {
      "cell_type": "code",
      "metadata": {
        "id": "WnC0262s4I03",
        "colab_type": "code",
        "colab": {}
      },
      "source": [
        "np.random.seed(0)"
      ],
      "execution_count": 0,
      "outputs": []
    },
    {
      "cell_type": "code",
      "metadata": {
        "id": "HTia5bRx4Isr",
        "colab_type": "code",
        "colab": {}
      },
      "source": [
        "(X_train, y_train), (X_test, y_test) = mnist.load_data()"
      ],
      "execution_count": 0,
      "outputs": []
    },
    {
      "cell_type": "code",
      "metadata": {
        "id": "si6kprPk4MD-",
        "colab_type": "code",
        "colab": {
          "base_uri": "https://localhost:8080/",
          "height": 86
        },
        "outputId": "31ff0359-5da0-4879-abb9-ccadbe23f17f"
      },
      "source": [
        "print(X_train.shape)\n",
        "print(X_test.shape)\n",
        "print(y_train.shape)\n",
        "print(y_test.shape)"
      ],
      "execution_count": 28,
      "outputs": [
        {
          "output_type": "stream",
          "text": [
            "(60000, 28, 28)\n",
            "(10000, 28, 28)\n",
            "(60000,)\n",
            "(10000,)\n"
          ],
          "name": "stdout"
        }
      ]
    },
    {
      "cell_type": "code",
      "metadata": {
        "id": "eVzishXN4NNp",
        "colab_type": "code",
        "colab": {
          "base_uri": "https://localhost:8080/",
          "height": 324
        },
        "outputId": "01cf0426-ba57-4852-a387-4fb0621b39a7"
      },
      "source": [
        "number_of_samples = []\n",
        "cols = 5\n",
        "num_classes = 10\n",
        "fig, axs = plt.subplots(nrows=3, ncols=cols, figsize=(5,5))"
      ],
      "execution_count": 29,
      "outputs": [
        {
          "output_type": "display_data",
          "data": {
            "image/png": "[encoded data removed]",
            "text/plain": [
              "<Figure size 360x360 with 15 Axes>"
            ]
          },
          "metadata": {
            "tags": []
          }
        }
      ]
    },
    {
      "cell_type": "code",
      "metadata": {
        "id": "yMAHghQz4Mnv",
        "colab_type": "code",
        "colab": {
          "base_uri": "https://localhost:8080/",
          "height": 718
        },
        "outputId": "dad020c8-ce6c-47fe-f40a-4a1a6edf062d"
      },
      "source": [
        "fig, axs = plt.subplots(nrows=num_classes, ncols=cols, figsize=(5,10))\n",
        "fig.tight_layout()\n",
        "for i in range(cols):\n",
        "    for j in range(num_classes):\n",
        "        x_selected = X_train[y_train == j]\n",
        "        axs[j][i].imshow(x_selected[random.randint(0, len(x_selected - 1)), :, :], cmap=plt.get_cmap(\"gray\"))\n",
        "        axs[j][i].axis(\"off\")\n",
        "        if i == 2:\n",
        "             axs[j][i].set_title(str(j))\n",
        "             number_of_samples.append(len(x_selected))"
      ],
      "execution_count": 30,
      "outputs": [
        {
          "output_type": "display_data",
          "data": {
            "image/png": "[encoded data removed]",
            "text/plain": [
              "<Figure size 360x720 with 50 Axes>"
            ]
          },
          "metadata": {
            "tags": []
          }
        }
      ]
    },
    {
      "cell_type": "code",
      "metadata": {
        "id": "uNQzPE4Q4YcG",
        "colab_type": "code",
        "colab": {
          "base_uri": "https://localhost:8080/",
          "height": 330
        },
        "outputId": "7d8b6237-5273-4c77-b02e-884641a43d9c"
      },
      "source": [
        "print(number_of_samples)\n",
        "plt.figure(figsize = (12, 4))\n",
        "plt.bar(range(0, num_classes), number_of_samples)\n",
        "plt.title(\"Distribution of MNIST training dataset\")\n",
        "plt.xlabel(\"Class number\")\n",
        "plt.ylabel(\"Number of images\")"
      ],
      "execution_count": 31,
      "outputs": [
        {
          "output_type": "stream",
          "text": [
            "[5923, 6742, 5958, 6131, 5842, 5421, 5918, 6265, 5851, 5949]\n"
          ],
          "name": "stdout"
        },
        {
          "output_type": "execute_result",
          "data": {
            "text/plain": [
              "Text(0, 0.5, 'Number of images')"
            ]
          },
          "metadata": {
            "tags": []
          },
          "execution_count": 31
        },
        {
          "output_type": "display_data",
          "data": {
            "image/png": "[encoded data removed]",
            "text/plain": [
              "<Figure size 864x288 with 1 Axes>"
            ]
          },
          "metadata": {
            "tags": []
          }
        }
      ]
    },
    {
      "cell_type": "markdown",
      "metadata": {
        "id": "n_kM67fd5ywd",
        "colab_type": "text"
      },
      "source": [
        "Added a depth of 1\n"
      ]
    },
    {
      "cell_type": "code",
      "metadata": {
        "id": "w_f3lIt65TlN",
        "colab_type": "code",
        "colab": {}
      },
      "source": [
        "X_train = X_train.reshape(60000, 28, 28, 1)\n",
        "X_test = X_test.reshape(10000, 28, 28, 1)"
      ],
      "execution_count": 0,
      "outputs": []
    },
    {
      "cell_type": "code",
      "metadata": {
        "id": "9tc9Vrul4YQ9",
        "colab_type": "code",
        "colab": {}
      },
      "source": [
        "y_train = to_categorical(y_train, 10)\n",
        "y_test = to_categorical(y_test, 10)"
      ],
      "execution_count": 0,
      "outputs": []
    },
    {
      "cell_type": "code",
      "metadata": {
        "id": "Wx_cyFS14X_x",
        "colab_type": "code",
        "colab": {}
      },
      "source": [
        "X_train = X_train/255\n",
        "X_test = X_test/255"
      ],
      "execution_count": 0,
      "outputs": []
    },
    {
      "cell_type": "markdown",
      "metadata": {
        "id": "d4uhUV8f68is",
        "colab_type": "text"
      },
      "source": [
        "1.   Using : LENet Model - 1998 recognizes hand written letters in cheque book\n",
        "2.   Other models we have are AlexNet, zfNet, GoogleNet\n"
      ]
    },
    {
      "cell_type": "code",
      "metadata": {
        "id": "4mUBdar04mDS",
        "colab_type": "code",
        "colab": {}
      },
      "source": [
        "# Define leNet model\n",
        "def leNet_model():\n",
        "    model = Sequential()\n",
        "    #  = 30 feature maps - 24x24 = (24*30*bias) = 780\n",
        "    # Strides=1 - how may pixes to move\n",
        "    # Padding=\"same/\" - How much outer pixel to add as padding to retain outer features. \n",
        "    model.add(Conv2D(30, (5,5), input_shape=(28, 28, 1), activation='relu', strides=1, padding=\"same\"))\n",
        "    model.add(MaxPooling2D(pool_size=(2,2))) #Shrinks from 24x24x30 to 12x12x30\n",
        "\n",
        "    model.add(Conv2D(15, (3,3), activation='relu'))\n",
        "    model.add(MaxPooling2D(pool_size=(2,2))) #Shrinks from 24x24x30 to 12x12x30\n",
        "\n",
        "    model.add(Flatten())\n",
        "\n",
        "    model.add(Dense(500, activation='relu'))\n",
        "    model.add(Dense(num_classes, activation='softmax'))\n",
        "    \n",
        "    model.compile(Adam(lr=0.01), loss='categorical_crossentropy', metrics=['accuracy'])\n",
        "    return model"
      ],
      "execution_count": 0,
      "outputs": []
    },
    {
      "cell_type": "code",
      "metadata": {
        "id": "eRPazM7s4sgj",
        "colab_type": "code",
        "colab": {
          "base_uri": "https://localhost:8080/",
          "height": 416
        },
        "outputId": "43f74b82-3c29-4a55-d59a-0e2846e8da04"
      },
      "source": [
        "model = leNet_model()\n",
        "print(model.summary())"
      ],
      "execution_count": 36,
      "outputs": [
        {
          "output_type": "stream",
          "text": [
            "Model: \"sequential_2\"\n",
            "_________________________________________________________________\n",
            "Layer (type)                 Output Shape              Param #   \n",
            "=================================================================\n",
            "conv2d_3 (Conv2D)            (None, 28, 28, 30)        780       \n",
            "_________________________________________________________________\n",
            "max_pooling2d_3 (MaxPooling2 (None, 14, 14, 30)        0         \n",
            "_________________________________________________________________\n",
            "conv2d_4 (Conv2D)            (None, 12, 12, 15)        4065      \n",
            "_________________________________________________________________\n",
            "max_pooling2d_4 (MaxPooling2 (None, 6, 6, 15)          0         \n",
            "_________________________________________________________________\n",
            "flatten_2 (Flatten)          (None, 540)               0         \n",
            "_________________________________________________________________\n",
            "dense_3 (Dense)              (None, 500)               270500    \n",
            "_________________________________________________________________\n",
            "dense_4 (Dense)              (None, 10)                5010      \n",
            "=================================================================\n",
            "Total params: 280,355\n",
            "Trainable params: 280,355\n",
            "Non-trainable params: 0\n",
            "_________________________________________________________________\n",
            "None\n"
          ],
          "name": "stdout"
        }
      ]
    },
    {
      "cell_type": "code",
      "metadata": {
        "id": "E0INKjT64v7D",
        "colab_type": "code",
        "colab": {
          "base_uri": "https://localhost:8080/",
          "height": 382
        },
        "outputId": "5e27236d-d691-452a-a79b-4117ba83d591"
      },
      "source": [
        "hist = model.fit(X_train, y_train, validation_split=0.1, epochs=10, batch_size=400, verbose=1, shuffle=1)"
      ],
      "execution_count": 37,
      "outputs": [
        {
          "output_type": "stream",
          "text": [
            "Train on 54000 samples, validate on 6000 samples\n",
            "Epoch 1/10\n",
            "54000/54000 [==============================] - 1s 24us/step - loss: 0.2171 - acc: 0.9299 - val_loss: 0.0567 - val_acc: 0.9837\n",
            "Epoch 2/10\n",
            "54000/54000 [==============================] - 1s 18us/step - loss: 0.0504 - acc: 0.9842 - val_loss: 0.0404 - val_acc: 0.9875\n",
            "Epoch 3/10\n",
            "54000/54000 [==============================] - 1s 18us/step - loss: 0.0342 - acc: 0.9891 - val_loss: 0.0401 - val_acc: 0.9878\n",
            "Epoch 4/10\n",
            "54000/54000 [==============================] - 1s 18us/step - loss: 0.0254 - acc: 0.9919 - val_loss: 0.0408 - val_acc: 0.9880\n",
            "Epoch 5/10\n",
            "54000/54000 [==============================] - 1s 19us/step - loss: 0.0241 - acc: 0.9921 - val_loss: 0.0505 - val_acc: 0.9855\n",
            "Epoch 6/10\n",
            "54000/54000 [==============================] - 1s 18us/step - loss: 0.0185 - acc: 0.9942 - val_loss: 0.0439 - val_acc: 0.9898\n",
            "Epoch 7/10\n",
            "54000/54000 [==============================] - 1s 18us/step - loss: 0.0203 - acc: 0.9930 - val_loss: 0.0388 - val_acc: 0.9898\n",
            "Epoch 8/10\n",
            "54000/54000 [==============================] - 1s 19us/step - loss: 0.0178 - acc: 0.9940 - val_loss: 0.0542 - val_acc: 0.9873\n",
            "Epoch 9/10\n",
            "54000/54000 [==============================] - 1s 19us/step - loss: 0.0158 - acc: 0.9947 - val_loss: 0.0417 - val_acc: 0.9912\n",
            "Epoch 10/10\n",
            "54000/54000 [==============================] - 1s 19us/step - loss: 0.0203 - acc: 0.9937 - val_loss: 0.0554 - val_acc: 0.9878\n"
          ],
          "name": "stdout"
        }
      ]
    },
    {
      "cell_type": "code",
      "metadata": {
        "id": "pb57Qcgu4wvM",
        "colab_type": "code",
        "colab": {
          "base_uri": "https://localhost:8080/",
          "height": 312
        },
        "outputId": "8bc0c05e-562e-4caf-c1bd-a18dab2b3c44"
      },
      "source": [
        "plt.plot(hist.history['loss'])\n",
        "plt.plot(hist.history['val_loss'])\n",
        "plt.xlabel('epoch')\n",
        "plt.legend(['loss'])\n",
        "plt.title('loss')"
      ],
      "execution_count": 38,
      "outputs": [
        {
          "output_type": "execute_result",
          "data": {
            "text/plain": [
              "Text(0.5, 1.0, 'loss')"
            ]
          },
          "metadata": {
            "tags": []
          },
          "execution_count": 38
        },
        {
          "output_type": "display_data",
          "data": {
            "image/png": "[encoded data removed]",
            "text/plain": [
              "<Figure size 432x288 with 1 Axes>"
            ]
          },
          "metadata": {
            "tags": []
          }
        }
      ]
    },
    {
      "cell_type": "code",
      "metadata": {
        "id": "nNlkjNjB4fDu",
        "colab_type": "code",
        "outputId": "7da7aefc-03b5-495e-ea29-c7a369e94aa0",
        "colab": {
          "base_uri": "https://localhost:8080/",
          "height": 312
        }
      },
      "source": [
        "plt.plot(hist.history['acc'])\n",
        "plt.plot(hist.history['val_acc'])\n",
        "plt.xlabel('epoch')\n",
        "plt.legend(['accuracy'])\n",
        "plt.title('accuracy')"
      ],
      "execution_count": 39,
      "outputs": [
        {
          "output_type": "execute_result",
          "data": {
            "text/plain": [
              "Text(0.5, 1.0, 'accuracy')"
            ]
          },
          "metadata": {
            "tags": []
          },
          "execution_count": 39
        },
        {
          "output_type": "display_data",
          "data": {
            "image/png": "[encoded data removed]",
            "text/plain": [
              "<Figure size 432x288 with 1 Axes>"
            ]
          },
          "metadata": {
            "tags": []
          }
        }
      ]
    },
    {
      "cell_type": "code",
      "metadata": {
        "id": "tXYrB3LxCTPC",
        "colab_type": "code",
        "colab": {
          "base_uri": "https://localhost:8080/",
          "height": 69
        },
        "outputId": "732694a2-60bd-40da-a4b0-ef32a5f8031b"
      },
      "source": [
        "score = model.evaluate(X_test, y_test, verbose=0)\n",
        "print(type(score))\n",
        "print('Test score : ', score[0])\n",
        "print('Test accuracy : ', score[1])"
      ],
      "execution_count": 40,
      "outputs": [
        {
          "output_type": "stream",
          "text": [
            "<class 'list'>\n",
            "Test score :  0.052705183503888337\n",
            "Test accuracy :  0.9867\n"
          ],
          "name": "stdout"
        }
      ]
    },
    {
      "cell_type": "code",
      "metadata": {
        "id": "mCQvPVTbCaHa",
        "colab_type": "code",
        "colab": {
          "base_uri": "https://localhost:8080/",
          "height": 286
        },
        "outputId": "d900a1cb-ea5a-42f4-9cda-b876c5fc75a3"
      },
      "source": [
        "import requests\n",
        "from PIL import Image\n",
        "\n",
        "url = 'https://www.researchgate.net/profile/Jose_Sempere/publication/221258631/figure/fig1/AS:305526891139075@1449854695342/Handwritten-digit-2.png'\n",
        "response = requests.get(url, stream=True)\n",
        "img = Image.open(response.raw)\n",
        "plt.imshow(img)"
      ],
      "execution_count": 57,
      "outputs": [
        {
          "output_type": "execute_result",
          "data": {
            "text/plain": [
              "<matplotlib.image.AxesImage at 0x7f578754d0b8>"
            ]
          },
          "metadata": {
            "tags": []
          },
          "execution_count": 57
        },
        {
          "output_type": "display_data",
          "data": {
            "image/png": "[encoded data removed]",
            "text/plain": [
              "<Figure size 432x288 with 1 Axes>"
            ]
          },
          "metadata": {
            "tags": []
          }
        }
      ]
    },
    {
      "cell_type": "code",
      "metadata": {
        "id": "3cKS5-bUCfjk",
        "colab_type": "code",
        "colab": {
          "base_uri": "https://localhost:8080/",
          "height": 317
        },
        "outputId": "98ae7479-666b-44ca-b5d5-d0460aecd687"
      },
      "source": [
        "import cv2\n",
        "\n",
        "img_array = np.asarray(img)\n",
        "print(img_array.shape)\n",
        "resized = cv2.resize(img_array, (28, 28))\n",
        "print(resized.shape)\n",
        "gray_scale = cv2.cvtColor(resized, cv2.COLOR_BGR2GRAY)\n",
        "plt.imshow(gray_scale, cmap=plt.get_cmap(\"gray\"))"
      ],
      "execution_count": 51,
      "outputs": [
        {
          "output_type": "stream",
          "text": [
            "(850, 850, 4)\n",
            "(28, 28, 4)\n"
          ],
          "name": "stdout"
        },
        {
          "output_type": "execute_result",
          "data": {
            "text/plain": [
              "<matplotlib.image.AxesImage at 0x7f57874e5ef0>"
            ]
          },
          "metadata": {
            "tags": []
          },
          "execution_count": 51
        },
        {
          "output_type": "display_data",
          "data": {
            "image/png": "[encoded data removed]",
            "text/plain": [
              "<Figure size 432x288 with 1 Axes>"
            ]
          },
          "metadata": {
            "tags": []
          }
        }
      ]
    },
    {
      "cell_type": "code",
      "metadata": {
        "id": "0CZxu74WCjYc",
        "colab_type": "code",
        "colab": {
          "base_uri": "https://localhost:8080/",
          "height": 282
        },
        "outputId": "a2494328-5551-4d2c-88cc-090a47451384"
      },
      "source": [
        "inverted_gray_scale = cv2.bitwise_not(gray_scale)\n",
        "plt.imshow(inverted_gray_scale, cmap=plt.get_cmap(\"gray\"))"
      ],
      "execution_count": 52,
      "outputs": [
        {
          "output_type": "execute_result",
          "data": {
            "text/plain": [
              "<matplotlib.image.AxesImage at 0x7f578748e550>"
            ]
          },
          "metadata": {
            "tags": []
          },
          "execution_count": 52
        },
        {
          "output_type": "display_data",
          "data": {
            "image/png": "[encoded data removed]",
            "text/plain": [
              "<Figure size 432x288 with 1 Axes>"
            ]
          },
          "metadata": {
            "tags": []
          }
        }
      ]
    },
    {
      "cell_type": "code",
      "metadata": {
        "colab_type": "code",
        "outputId": "58a5c4ca-d233-43d7-8653-b592a160380f",
        "id": "hYy12hB_Dzan",
        "colab": {
          "base_uri": "https://localhost:8080/",
          "height": 282
        }
      },
      "source": [
        "inverted_gray_scale = cv2.bitwise_not(gray_scale)\n",
        "plt.imshow(inverted_gray_scale, cmap=plt.get_cmap(\"gray\"))"
      ],
      "execution_count": 53,
      "outputs": [
        {
          "output_type": "execute_result",
          "data": {
            "text/plain": [
              "<matplotlib.image.AxesImage at 0x7f57874d0278>"
            ]
          },
          "metadata": {
            "tags": []
          },
          "execution_count": 53
        },
        {
          "output_type": "display_data",
          "data": {
            "image/png": "[encoded data removed]",
            "text/plain": [
              "<Figure size 432x288 with 1 Axes>"
            ]
          },
          "metadata": {
            "tags": []
          }
        }
      ]
    },
    {
      "cell_type": "code",
      "metadata": {
        "id": "DgsWnCsTC_Nb",
        "colab_type": "code",
        "colab": {}
      },
      "source": [
        "inverted_gray_scale = inverted_gray_scale/255\n",
        "inverted_gray_scale = inverted_gray_scale.reshape(1, 28, 28, 1)"
      ],
      "execution_count": 0,
      "outputs": []
    },
    {
      "cell_type": "code",
      "metadata": {
        "id": "WfA0jVZGCsCW",
        "colab_type": "code",
        "colab": {
          "base_uri": "https://localhost:8080/",
          "height": 34
        },
        "outputId": "29305fcc-f9cc-4648-cdde-12629da169b5"
      },
      "source": [
        "prediction = model.predict_classes(inverted_gray_scale)\n",
        "print(\"Predicted digit: \", str(prediction))"
      ],
      "execution_count": 55,
      "outputs": [
        {
          "output_type": "stream",
          "text": [
            "Predicted digit:  [2]\n"
          ],
          "name": "stdout"
        }
      ]
    }
  ]
}