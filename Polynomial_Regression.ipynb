{
  "nbformat": 4,
  "nbformat_minor": 0,
  "metadata": {
    "colab": {
      "name": "Polynomial_Regression.ipynb",
      "provenance": [],
      "collapsed_sections": [],
      "include_colab_link": true
    },
    "kernelspec": {
      "name": "python3",
      "display_name": "Python 3"
    }
  },
  "cells": [
    {
      "cell_type": "markdown",
      "metadata": {
        "id": "view-in-github",
        "colab_type": "text"
      },
      "source": [
        "<a href=\"https://colab.research.google.com/github/kiran20v/python/blob/master/Polynomial_Regression.ipynb\" target=\"_parent\"><img src=\"https://colab.research.google.com/assets/colab-badge.svg\" alt=\"Open In Colab\"/></a>"
      ]
    },
    {
      "cell_type": "code",
      "metadata": {
        "id": "WWpL_oweyrhL",
        "colab_type": "code",
        "colab": {
          "base_uri": "https://localhost:8080/",
          "height": 81
        },
        "outputId": "3ce38381-c8d6-4d40-c290-b67b82223ab0"
      },
      "source": [
        "import numpy as np\n",
        "import matplotlib.pyplot as plt\n",
        "import keras\n",
        "from keras.datasets import mnist\n",
        "from keras.models import Sequential\n",
        "from keras.layers import Dense, Dropout, Flatten\n",
        "from keras.layers.convolutional import Conv2D, MaxPooling2D\n",
        "from keras.optimizers import Adam\n",
        "from keras.utils.np_utils import to_categorical\n",
        "import random\n",
        "import pickle\n",
        "import pandas as pd\n",
        "\n",
        "import cv2"
      ],
      "execution_count": 2,
      "outputs": [
        {
          "output_type": "stream",
          "text": [
            "Using TensorFlow backend.\n"
          ],
          "name": "stderr"
        },
        {
          "output_type": "display_data",
          "data": {
            "text/html": [
              "<p style=\"color: red;\">\n",
              "The default version of TensorFlow in Colab will soon switch to TensorFlow 2.x.<br>\n",
              "We recommend you <a href=\"https://www.tensorflow.org/guide/migrate\" target=\"_blank\">upgrade</a> now \n",
              "or ensure your notebook will continue to use TensorFlow 1.x via the <code>%tensorflow_version 1.x</code> magic:\n",
              "<a href=\"https://colab.research.google.com/notebooks/tensorflow_version.ipynb\" target=\"_blank\">more info</a>.</p>\n"
            ],
            "text/plain": [
              "<IPython.core.display.HTML object>"
            ]
          },
          "metadata": {
            "tags": []
          }
        }
      ]
    },
    {
      "cell_type": "code",
      "metadata": {
        "id": "2CfpLZ1NZmER",
        "colab_type": "code",
        "colab": {
          "base_uri": "https://localhost:8080/",
          "height": 282
        },
        "outputId": "7bf0f8f4-a6a0-4b81-a018-867efa09db04"
      },
      "source": [
        "np.random.seed(0)\n",
        "points = 500\n",
        "\n",
        "X = np.linspace(-3,3, points)\n",
        "y = np.sin(X) + np.random.uniform(-0.5, 0.5, points)\n",
        "\n",
        "plt.scatter(X, y)"
      ],
      "execution_count": 4,
      "outputs": [
        {
          "output_type": "execute_result",
          "data": {
            "text/plain": [
              "<matplotlib.collections.PathCollection at 0x7f5d8369cf28>"
            ]
          },
          "metadata": {
            "tags": []
          },
          "execution_count": 4
        },
        {
          "output_type": "display_data",
          "data": {
            "image/png": "[encoded data removed]",
            "text/plain": [
              "<Figure size 432x288 with 1 Axes>"
            ]
          },
          "metadata": {
            "tags": []
          }
        }
      ]
    },
    {
      "cell_type": "code",
      "metadata": {
        "id": "5jEupzseaOP5",
        "colab_type": "code",
        "colab": {
          "base_uri": "https://localhost:8080/",
          "height": 1000
        },
        "outputId": "1d3c7f67-034a-42d3-9f31-052fa84748d1"
      },
      "source": [
        "model = Sequential()\n",
        "model.add(Dense(50, input_dim=1, activation='sigmoid'))\n",
        "model.add(Dense(30, activation='sigmoid'))\n",
        "model.add(Dense(1))\n",
        "model.compile(loss='mse', optimizer=Adam(lr=0.01))\n",
        "\n",
        "model.fit(X,y, epochs=50)"
      ],
      "execution_count": 6,
      "outputs": [
        {
          "output_type": "stream",
          "text": [
            "WARNING:tensorflow:From /usr/local/lib/python3.6/dist-packages/keras/backend/tensorflow_backend.py:1033: The name tf.assign_add is deprecated. Please use tf.compat.v1.assign_add instead.\n",
            "\n",
            "WARNING:tensorflow:From /usr/local/lib/python3.6/dist-packages/keras/backend/tensorflow_backend.py:1020: The name tf.assign is deprecated. Please use tf.compat.v1.assign instead.\n",
            "\n",
            "WARNING:tensorflow:From /usr/local/lib/python3.6/dist-packages/keras/backend/tensorflow_backend.py:3005: The name tf.Session is deprecated. Please use tf.compat.v1.Session instead.\n",
            "\n",
            "Epoch 1/50\n",
            "WARNING:tensorflow:From /usr/local/lib/python3.6/dist-packages/keras/backend/tensorflow_backend.py:190: The name tf.get_default_session is deprecated. Please use tf.compat.v1.get_default_session instead.\n",
            "\n",
            "WARNING:tensorflow:From /usr/local/lib/python3.6/dist-packages/keras/backend/tensorflow_backend.py:197: The name tf.ConfigProto is deprecated. Please use tf.compat.v1.ConfigProto instead.\n",
            "\n",
            "WARNING:tensorflow:From /usr/local/lib/python3.6/dist-packages/keras/backend/tensorflow_backend.py:207: The name tf.global_variables is deprecated. Please use tf.compat.v1.global_variables instead.\n",
            "\n",
            "WARNING:tensorflow:From /usr/local/lib/python3.6/dist-packages/keras/backend/tensorflow_backend.py:216: The name tf.is_variable_initialized is deprecated. Please use tf.compat.v1.is_variable_initialized instead.\n",
            "\n",
            "WARNING:tensorflow:From /usr/local/lib/python3.6/dist-packages/keras/backend/tensorflow_backend.py:223: The name tf.variables_initializer is deprecated. Please use tf.compat.v1.variables_initializer instead.\n",
            "\n",
            "500/500 [==============================] - 1s 2ms/step - loss: 0.5365\n",
            "Epoch 2/50\n",
            "500/500 [==============================] - 0s 47us/step - loss: 0.2504\n",
            "Epoch 3/50\n",
            "500/500 [==============================] - 0s 46us/step - loss: 0.2347\n",
            "Epoch 4/50\n",
            "500/500 [==============================] - 0s 46us/step - loss: 0.2404\n",
            "Epoch 5/50\n",
            "500/500 [==============================] - 0s 56us/step - loss: 0.2237\n",
            "Epoch 6/50\n",
            "500/500 [==============================] - 0s 46us/step - loss: 0.2328\n",
            "Epoch 7/50\n",
            "500/500 [==============================] - 0s 42us/step - loss: 0.2103\n",
            "Epoch 8/50\n",
            "500/500 [==============================] - 0s 40us/step - loss: 0.2003\n",
            "Epoch 9/50\n",
            "500/500 [==============================] - 0s 62us/step - loss: 0.1975\n",
            "Epoch 10/50\n",
            "500/500 [==============================] - 0s 43us/step - loss: 0.1895\n",
            "Epoch 11/50\n",
            "500/500 [==============================] - 0s 54us/step - loss: 0.1742\n",
            "Epoch 12/50\n",
            "500/500 [==============================] - 0s 43us/step - loss: 0.1650\n",
            "Epoch 13/50\n",
            "500/500 [==============================] - 0s 44us/step - loss: 0.1539\n",
            "Epoch 14/50\n",
            "500/500 [==============================] - 0s 62us/step - loss: 0.1479\n",
            "Epoch 15/50\n",
            "500/500 [==============================] - 0s 46us/step - loss: 0.1477\n",
            "Epoch 16/50\n",
            "500/500 [==============================] - 0s 45us/step - loss: 0.1344\n",
            "Epoch 17/50\n",
            "500/500 [==============================] - 0s 51us/step - loss: 0.1231\n",
            "Epoch 18/50\n",
            "500/500 [==============================] - 0s 54us/step - loss: 0.1200\n",
            "Epoch 19/50\n",
            "500/500 [==============================] - 0s 49us/step - loss: 0.1179\n",
            "Epoch 20/50\n",
            "500/500 [==============================] - 0s 46us/step - loss: 0.1149\n",
            "Epoch 21/50\n",
            "500/500 [==============================] - 0s 53us/step - loss: 0.1132\n",
            "Epoch 22/50\n",
            "500/500 [==============================] - 0s 45us/step - loss: 0.1103\n",
            "Epoch 23/50\n",
            "500/500 [==============================] - 0s 48us/step - loss: 0.1114\n",
            "Epoch 24/50\n",
            "500/500 [==============================] - 0s 49us/step - loss: 0.1122\n",
            "Epoch 25/50\n",
            "500/500 [==============================] - 0s 53us/step - loss: 0.1101\n",
            "Epoch 26/50\n",
            "500/500 [==============================] - 0s 47us/step - loss: 0.1128\n",
            "Epoch 27/50\n",
            "500/500 [==============================] - 0s 43us/step - loss: 0.1117\n",
            "Epoch 28/50\n",
            "500/500 [==============================] - 0s 50us/step - loss: 0.1090\n",
            "Epoch 29/50\n",
            "500/500 [==============================] - 0s 43us/step - loss: 0.1128\n",
            "Epoch 30/50\n",
            "500/500 [==============================] - 0s 52us/step - loss: 0.1134\n",
            "Epoch 31/50\n",
            "500/500 [==============================] - 0s 45us/step - loss: 0.1250\n",
            "Epoch 32/50\n",
            "500/500 [==============================] - 0s 47us/step - loss: 0.1051\n",
            "Epoch 33/50\n",
            "500/500 [==============================] - 0s 48us/step - loss: 0.1049\n",
            "Epoch 34/50\n",
            "500/500 [==============================] - 0s 54us/step - loss: 0.1065\n",
            "Epoch 35/50\n",
            "500/500 [==============================] - 0s 54us/step - loss: 0.1042\n",
            "Epoch 36/50\n",
            "500/500 [==============================] - 0s 46us/step - loss: 0.1037\n",
            "Epoch 37/50\n",
            "500/500 [==============================] - 0s 50us/step - loss: 0.1022\n",
            "Epoch 38/50\n",
            "500/500 [==============================] - 0s 45us/step - loss: 0.1005\n",
            "Epoch 39/50\n",
            "500/500 [==============================] - 0s 46us/step - loss: 0.1033\n",
            "Epoch 40/50\n",
            "500/500 [==============================] - 0s 50us/step - loss: 0.1046\n",
            "Epoch 41/50\n",
            "500/500 [==============================] - 0s 46us/step - loss: 0.1033\n",
            "Epoch 42/50\n",
            "500/500 [==============================] - 0s 58us/step - loss: 0.1182\n",
            "Epoch 43/50\n",
            "500/500 [==============================] - 0s 44us/step - loss: 0.1130\n",
            "Epoch 44/50\n",
            "500/500 [==============================] - 0s 54us/step - loss: 0.1031\n",
            "Epoch 45/50\n",
            "500/500 [==============================] - 0s 48us/step - loss: 0.1077\n",
            "Epoch 46/50\n",
            "500/500 [==============================] - 0s 48us/step - loss: 0.1029\n",
            "Epoch 47/50\n",
            "500/500 [==============================] - 0s 49us/step - loss: 0.1007\n",
            "Epoch 48/50\n",
            "500/500 [==============================] - 0s 47us/step - loss: 0.1164\n",
            "Epoch 49/50\n",
            "500/500 [==============================] - 0s 53us/step - loss: 0.1050\n",
            "Epoch 50/50\n",
            "500/500 [==============================] - 0s 46us/step - loss: 0.0985\n"
          ],
          "name": "stdout"
        },
        {
          "output_type": "execute_result",
          "data": {
            "text/plain": [
              "<keras.callbacks.History at 0x7f5d759a1e10>"
            ]
          },
          "metadata": {
            "tags": []
          },
          "execution_count": 6
        }
      ]
    },
    {
      "cell_type": "code",
      "metadata": {
        "id": "4jfvTVmBc6S_",
        "colab_type": "code",
        "colab": {
          "base_uri": "https://localhost:8080/",
          "height": 265
        },
        "outputId": "b16de564-50f7-4ce5-cb4d-0fad37b86b58"
      },
      "source": [
        "predictions = model.predict(X)\n",
        "plt.scatter(X, y)\n",
        "plt.plot(X, predictions, 'ro')\n",
        "plt.show()"
      ],
      "execution_count": 7,
      "outputs": [
        {
          "output_type": "display_data",
          "data": {
            "image/png": "[encoded data removed]",
            "text/plain": [
              "<Figure size 432x288 with 1 Axes>"
            ]
          },
          "metadata": {
            "tags": []
          }
        }
      ]
    }
  ]
}