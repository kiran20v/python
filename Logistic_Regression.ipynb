{
  "nbformat": 4,
  "nbformat_minor": 0,
  "metadata": {
    "colab": {
      "name": "Logistic_Regression.ipynb",
      "provenance": [],
      "collapsed_sections": [],
      "include_colab_link": true
    },
    "kernelspec": {
      "name": "python3",
      "display_name": "Python 3"
    },
    "accelerator": "GPU"
  },
  "cells": [
    {
      "cell_type": "markdown",
      "metadata": {
        "id": "view-in-github",
        "colab_type": "text"
      },
      "source": [
        "<a href=\"https://colab.research.google.com/github/kiran20v/python/blob/master/Logistic_Regression.ipynb\" target=\"_parent\"><img src=\"https://colab.research.google.com/assets/colab-badge.svg\" alt=\"Open In Colab\"/></a>"
      ]
    },
    {
      "cell_type": "markdown",
      "metadata": {
        "id": "num0QeorsuRq",
        "colab_type": "text"
      },
      "source": [
        "## Linear Regression - Perceptrons, sigmoids\n",
        "\n",
        "1.   Perceptrons\n",
        "2.   Step function vs Sigmod \n",
        "3.   Step function gives 1 or 0\n",
        "3.   Sigmoid 1/1+e pw 1/10 = 99% = 1/1+e pw -x\n",
        "4.   Error variations\n",
        "5.   Bias(b) would be 1 ( 0 = w1(x1) + w2(x2) + b )\n",
        "6.   Cross entropy = sum of logarthims/probablities\n",
        "                  - (SUM yln(p) + (1-y)(ln(1-p))/n_pts\n",
        "                  - log(p1) + log(p2) + ...........log(pn)/n = n\n",
        "                    (p - probablity)\n",
        "\n",
        "\n",
        "\n",
        "\n"
      ]
    },
    {
      "cell_type": "code",
      "metadata": {
        "id": "WTBsUnijpBxx",
        "colab_type": "code",
        "colab": {}
      },
      "source": [
        "import numpy as np\n",
        "import matplotlib.pyplot as plt"
      ],
      "execution_count": 0,
      "outputs": []
    },
    {
      "cell_type": "code",
      "metadata": {
        "id": "P7WwtVunxdLJ",
        "colab_type": "code",
        "colab": {}
      },
      "source": [
        "def draw(x1, x2):\n",
        "    ln = plt.plot(x1, x2)"
      ],
      "execution_count": 0,
      "outputs": []
    },
    {
      "cell_type": "markdown",
      "metadata": {
        "id": "EH9K7MgA9PMz",
        "colab_type": "text"
      },
      "source": [
        "Sigmod - Gives probablity of given value"
      ]
    },
    {
      "cell_type": "code",
      "metadata": {
        "id": "_I7KwVZazkn2",
        "colab_type": "code",
        "colab": {}
      },
      "source": [
        "def sigmoid(score):\n",
        "    return 1/(1 + np.exp(-score))"
      ],
      "execution_count": 0,
      "outputs": []
    },
    {
      "cell_type": "markdown",
      "metadata": {
        "id": "FOsfBtxU7fck",
        "colab_type": "text"
      },
      "source": [
        "Cross Entropy (SUM yln(p) + (1-y)(ln(1-p))/n_pts"
      ]
    },
    {
      "cell_type": "code",
      "metadata": {
        "id": "Y5EtHard3RYz",
        "colab_type": "code",
        "colab": {}
      },
      "source": [
        "def calculate_error(line_parameters, points, y):\n",
        "    m = points.shape[0]\n",
        "    p = sigmoid(points*line_parameters)\n",
        "    cross_entropy = -(1/m)*(np.log(p).T * y + np.log(1-p).T*(1-y))\n",
        "    return cross_entropy"
      ],
      "execution_count": 0,
      "outputs": []
    },
    {
      "cell_type": "code",
      "metadata": {
        "id": "nB6dAkkewCU9",
        "colab_type": "code",
        "colab": {
          "base_uri": "https://localhost:8080/",
          "height": 1000
        },
        "outputId": "63d8a5fd-d9fd-4ffb-c9f6-805c3c924b57"
      },
      "source": [
        "n_pts=100\n",
        "np.random.seed(0)\n",
        "bias= np.ones(n_pts)\n",
        "top_region=np.array([np.random.normal(10,2,n_pts), np.random.normal(12,2,n_pts), bias]).T\n",
        "bottom_region= np.array([np.random.normal(5,2, n_pts), np.random.normal(6,2, n_pts), bias]).T\n",
        "all_points=np.vstack((top_region, bottom_region))\n",
        "# Labels (Zeros and Ones)\n",
        "y=np.array([np.zeros(n_pts), np.ones(n_pts)]).reshape(n_pts*2, 1)\n",
        "top_region"
      ],
      "execution_count": 62,
      "outputs": [
        {
          "output_type": "execute_result",
          "data": {
            "text/plain": [
              "array([[13.52810469, 15.76630139,  1.        ],\n",
              "       [10.80031442,  9.30448188,  1.        ],\n",
              "       [11.95747597,  9.45903   ,  1.        ],\n",
              "       [14.4817864 , 13.93879342,  1.        ],\n",
              "       [13.73511598,  9.65375319,  1.        ],\n",
              "       [ 8.04544424, 15.88724237,  1.        ],\n",
              "       [11.90017684, 11.17276204,  1.        ],\n",
              "       [ 9.69728558, 10.50509038,  1.        ],\n",
              "       [ 9.7935623 , 15.84588405,  1.        ],\n",
              "       [10.821197  , 14.96102958,  1.        ],\n",
              "       [10.28808714, 15.73511792,  1.        ],\n",
              "       [12.90854701, 13.81208932,  1.        ],\n",
              "       [11.52207545, 10.27754863,  1.        ],\n",
              "       [10.24335003, 15.82012991,  1.        ],\n",
              "       [10.88772647, 11.46399326,  1.        ],\n",
              "       [10.66734865, 13.60491279,  1.        ],\n",
              "       [12.98815815, 13.89450394,  1.        ],\n",
              "       [ 9.58968347, 11.68997981,  1.        ],\n",
              "       [10.6261354 , 13.22815874,  1.        ],\n",
              "       [ 8.29180852, 13.84441334,  1.        ],\n",
              "       [ 4.89402037, 12.75285106,  1.        ],\n",
              "       [11.30723719,  9.80119842,  1.        ],\n",
              "       [11.7288724 , 12.59647635,  1.        ],\n",
              "       [ 8.51566996, 14.65277179,  1.        ],\n",
              "       [14.53950925, 10.61086428,  1.        ],\n",
              "       [ 7.09126865, 11.70073092,  1.        ],\n",
              "       [10.09151703, 11.1296929 ,  1.        ],\n",
              "       [ 9.6256323 , 15.69852746,  1.        ],\n",
              "       [13.06555843, 13.34458951,  1.        ],\n",
              "       [12.93871754, 12.81492367,  1.        ],\n",
              "       [10.30989485, 10.46016785,  1.        ],\n",
              "       [10.75632504, 13.07849838,  1.        ],\n",
              "       [ 8.2244285 , 10.65133468,  1.        ],\n",
              "       [ 6.03840706, 12.06366112,  1.        ],\n",
              "       [ 9.3041757 , 10.72830784,  1.        ],\n",
              "       [10.31269794, 13.35286659,  1.        ],\n",
              "       [12.46058136, 13.15318163,  1.        ],\n",
              "       [12.4047597 , 11.58340249,  1.        ],\n",
              "       [ 9.22534637, 12.79201343,  1.        ],\n",
              "       [ 9.3953945 ,  9.81387698,  1.        ],\n",
              "       [ 7.90289407,  9.01748481,  1.        ],\n",
              "       [ 7.15996413, 12.8787834 ,  1.        ],\n",
              "       [ 6.58745962, 12.33334699,  1.        ],\n",
              "       [13.90155079, 13.27006287,  1.        ],\n",
              "       [ 8.98069564, 16.76628955,  1.        ],\n",
              "       [ 9.1238514 , 13.88895897,  1.        ],\n",
              "       [ 7.49440928, 10.17435555,  1.        ],\n",
              "       [11.55498071, 14.23403258,  1.        ],\n",
              "       [ 6.7722043 ,  9.36818518,  1.        ],\n",
              "       [ 9.57451944, 11.07683079,  1.        ],\n",
              "       [ 8.20906688, 11.86351679,  1.        ],\n",
              "       [10.773805  , 15.42668544,  1.        ],\n",
              "       [ 8.97838972, 10.51049036,  1.        ],\n",
              "       [ 7.63873563, 10.34712292,  1.        ],\n",
              "       [ 9.94363554, 11.80309495,  1.        ],\n",
              "       [10.85666374, 10.67304343,  1.        ],\n",
              "       [10.13303444, 14.25327184,  1.        ],\n",
              "       [10.6049438 ,  9.84013698,  1.        ],\n",
              "       [ 8.73135581,  9.7050627 ,  1.        ],\n",
              "       [ 9.27451767, 11.12435991,  1.        ],\n",
              "       [ 8.6550791 , 11.0039351 ,  1.        ],\n",
              "       [ 9.28089368, 15.85906411,  1.        ],\n",
              "       [ 8.37370744, 13.89884161,  1.        ],\n",
              "       [ 6.5474348 , 12.17510248,  1.        ],\n",
              "       [10.35485228,  9.54912896,  1.        ],\n",
              "       [ 9.19643813, 13.68872595,  1.        ],\n",
              "       [ 6.73960331,  9.99956931,  1.        ],\n",
              "       [10.92556451,  8.91045781,  1.        ],\n",
              "       [ 8.18540327, 14.37605958,  1.        ],\n",
              "       [10.10389079, 12.63388522,  1.        ],\n",
              "       [11.45818112, 13.84171765,  1.        ],\n",
              "       [10.25796582, 12.63745531,  1.        ],\n",
              "       [12.27880137, 13.71366122,  1.        ],\n",
              "       [ 7.53034836, 10.69794881,  1.        ],\n",
              "       [10.80468328,  9.93151432,  1.        ],\n",
              "       [ 8.63037982, 13.36318904,  1.        ],\n",
              "       [ 8.2584057 , 10.39318067,  1.        ],\n",
              "       [ 8.84230067, 10.62090044,  1.        ],\n",
              "       [ 9.37689494, 11.08893499,  1.        ],\n",
              "       [10.11233068, 12.03495832,  1.        ],\n",
              "       [ 7.66970032, 11.29201218,  1.        ],\n",
              "       [11.80165297,  9.25009741,  1.        ],\n",
              "       [10.93132488, 10.71276319,  1.        ],\n",
              "       [ 6.92751263,  7.5531937 ,  1.        ],\n",
              "       [12.97650439, 13.2504629 ,  1.        ],\n",
              "       [13.79177835,  8.79588469,  1.        ],\n",
              "       [12.35755914,  9.79123332,  1.        ],\n",
              "       [ 9.64015033, 12.10433016,  1.        ],\n",
              "       [ 7.85849476, 10.52087401,  1.        ],\n",
              "       [12.10890345, 15.08602919,  1.        ],\n",
              "       [ 9.19364611,  9.41428618,  1.        ],\n",
              "       [12.44489014, 12.53410174,  1.        ],\n",
              "       [10.41654996, 11.92143436,  1.        ],\n",
              "       [11.95327807,  9.663813  ,  1.        ],\n",
              "       [10.71273279, 13.04655332,  1.        ],\n",
              "       [11.41314634, 11.65690734,  1.        ],\n",
              "       [10.02100004, 13.5435811 ,  1.        ],\n",
              "       [13.57174099, 13.64700831,  1.        ],\n",
              "       [10.25382419, 16.3264719 ,  1.        ],\n",
              "       [10.80397873, 14.6730559 ,  1.        ]])"
            ]
          },
          "metadata": {
            "tags": []
          },
          "execution_count": 62
        }
      ]
    },
    {
      "cell_type": "code",
      "metadata": {
        "id": "uplF77gv66LK",
        "colab_type": "code",
        "colab": {}
      },
      "source": [
        "w1=-0.2\n",
        "w2=-0.35\n",
        "b=3.5\n",
        "line_parameters = np.matrix([w1,w2,b]).T\n",
        "x1=np.array([bottom_region[:,0].min(), top_region[:,0].max()])\n",
        "x2= -b/w2 + (x1*(-w1/w2))"
      ],
      "execution_count": 0,
      "outputs": []
    },
    {
      "cell_type": "code",
      "metadata": {
        "colab_type": "code",
        "id": "iPlHYyEx6_4l",
        "colab": {}
      },
      "source": [
        "w12=-0.1\n",
        "w22=-0.15\n",
        "b1=0\n",
        "line_parameters2 = np.matrix([w12,w22,b1]).T\n",
        "x12=np.array([bottom_region[:,0].min(), top_region[:,0].max()])\n",
        "x22= -b/w22 + (x1*(-w12/w22))"
      ],
      "execution_count": 0,
      "outputs": []
    },
    {
      "cell_type": "code",
      "metadata": {
        "id": "KiEf_lCGsE4Q",
        "colab_type": "code",
        "outputId": "40db4b05-06f1-4393-c71e-7c5503b4c91a",
        "colab": {
          "base_uri": "https://localhost:8080/",
          "height": 265
        }
      },
      "source": [
        " _, ax= plt.subplots(figsize=(4,4))\n",
        "ax.scatter(top_region[:,0], top_region[:,1], color='r')\n",
        "ax.scatter(bottom_region[:,0], bottom_region[:,1], color='b')\n",
        "draw(x1,x2)\n",
        "draw(x12,x22)\n",
        "plt.show()\n"
      ],
      "execution_count": 59,
      "outputs": [
        {
          "output_type": "display_data",
          "data": {
            "image/png": "[encoded data removed]",
            "text/plain": [
              "<Figure size 288x288 with 1 Axes>"
            ]
          },
          "metadata": {
            "tags": []
          }
        }
      ]
    },
    {
      "cell_type": "code",
      "metadata": {
        "id": "F9CymQFA_lof",
        "colab_type": "code",
        "colab": {}
      },
      "source": [
        "linear_combination = all_points * line_parameters\n",
        "probablities = sigmoid(linear_combination)\n",
        "probablities"
      ],
      "execution_count": 0,
      "outputs": []
    },
    {
      "cell_type": "code",
      "metadata": {
        "id": "2_yBOO_jyk5N",
        "colab_type": "code",
        "colab": {
          "base_uri": "https://localhost:8080/",
          "height": 52
        },
        "outputId": "7f9e2864-0fa3-4f5e-8ad9-da8549db11ef"
      },
      "source": [
        "#Low error\n",
        "print((calculate_error(line_parameters, all_points, y)))\n",
        "#High error\n",
        "print((calculate_error(line_parameters2, all_points, y)))\n",
        "#Next will check how gradient descent helps reduce this."
      ],
      "execution_count": 61,
      "outputs": [
        {
          "output_type": "stream",
          "text": [
            "[[0.30139461]]\n",
            "[[0.81775297]]\n"
          ],
          "name": "stdout"
        }
      ]
    }
  ]
}